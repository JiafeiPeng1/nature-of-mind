{
 "cells": [
  {
   "cell_type": "raw",
   "id": "f85e8212-cf0b-4e5f-9add-5345d5455de9",
   "metadata": {
    "tags": []
   },
   "source": [
    "!pip install moviepy"
   ]
  },
  {
   "cell_type": "code",
   "execution_count": 14,
   "id": "5dd268cf-6b8b-4f8d-a5eb-8e3d501e292c",
   "metadata": {
    "tags": []
   },
   "outputs": [],
   "source": [
    "from moviepy.video.io.ffmpeg_tools import ffmpeg_extract_subclip"
   ]
  },
  {
   "cell_type": "code",
   "execution_count": 15,
   "id": "bf91e78c-5cf1-4c35-835b-bbb5fffa931a",
   "metadata": {
    "tags": []
   },
   "outputs": [],
   "source": [
    "input_path = \"GMT20240420-140516_Recording_640x360.mp4\"\n",
    "output_path = \"20240420_gg_qa.mp4\""
   ]
  },
  {
   "cell_type": "code",
   "execution_count": 22,
   "id": "a6e7b13a-bb77-4f07-a3ba-7d1e930437ac",
   "metadata": {
    "tags": []
   },
   "outputs": [],
   "source": [
    "t_start_s = (60*1 + 30)\n",
    "t_end_s = (3600*1 + 60*6 + 54)"
   ]
  },
  {
   "cell_type": "code",
   "execution_count": 23,
   "id": "45ae13dc-8362-4759-bf47-1e9a71edcbf1",
   "metadata": {
    "tags": []
   },
   "outputs": [
    {
     "name": "stdout",
     "output_type": "stream",
     "text": [
      "90\n",
      "4014\n"
     ]
    }
   ],
   "source": [
    "print(t_start_s)\n",
    "print(t_end_s)"
   ]
  },
  {
   "cell_type": "code",
   "execution_count": 24,
   "id": "799ee4d6-2567-4cfa-a7ad-90e1f4a143f9",
   "metadata": {
    "tags": []
   },
   "outputs": [
    {
     "name": "stdout",
     "output_type": "stream",
     "text": [
      "Moviepy - Running:\n",
      ">>> \"+ \" \".join(cmd)\n",
      "Moviepy - Command successful\n"
     ]
    }
   ],
   "source": [
    "ffmpeg_extract_subclip(input_path, t_start_s, t_end_s, output_path)"
   ]
  },
  {
   "cell_type": "code",
   "execution_count": null,
   "id": "3d1675df-39f7-4701-9799-5cb3dd620a2b",
   "metadata": {},
   "outputs": [],
   "source": []
  }
 ],
 "metadata": {
  "kernelspec": {
   "display_name": "conda_python3",
   "language": "python",
   "name": "conda_python3"
  },
  "language_info": {
   "codemirror_mode": {
    "name": "ipython",
    "version": 3
   },
   "file_extension": ".py",
   "mimetype": "text/x-python",
   "name": "python",
   "nbconvert_exporter": "python",
   "pygments_lexer": "ipython3",
   "version": "3.10.14"
  }
 },
 "nbformat": 4,
 "nbformat_minor": 5
}
