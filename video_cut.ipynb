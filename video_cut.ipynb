{
 "cells": [
  {
   "cell_type": "code",
   "execution_count": null,
   "id": "f6589f6f",
   "metadata": {},
   "outputs": [],
   "source": [
    "pip install moviepy"
   ]
  },
  {
   "cell_type": "code",
   "execution_count": null,
   "id": "be5144da",
   "metadata": {},
   "outputs": [],
   "source": [
    "pip install ffmpeg"
   ]
  },
  {
   "cell_type": "code",
   "execution_count": null,
   "id": "fd24cf50",
   "metadata": {},
   "outputs": [],
   "source": [
    "import os\n",
    "os.environ[\"IMAGEIO_FFMPEG_EXE\"] = \"/opt/homebrew/bin/ffmpeg\""
   ]
  },
  {
   "cell_type": "code",
   "execution_count": null,
   "id": "5dd268cf-6b8b-4f8d-a5eb-8e3d501e292c",
   "metadata": {
    "tags": []
   },
   "outputs": [],
   "source": [
    "from moviepy.video.io.ffmpeg_tools import ffmpeg_extract_subclip\n",
    "from moviepy import VideoFileClip"
   ]
  },
  {
   "cell_type": "code",
   "execution_count": null,
   "id": "bf91e78c-5cf1-4c35-835b-bbb5fffa931a",
   "metadata": {
    "tags": []
   },
   "outputs": [],
   "source": [
    "input_file = \"/Users/xinli/Downloads/GMT20241116-151113_Recording_640x360.mp4\"\n",
    "output_file = \"/Users/xinli/Downloads/gg_20241116.mp4\""
   ]
  },
  {
   "cell_type": "code",
   "execution_count": null,
   "id": "a6e7b13a-bb77-4f07-a3ba-7d1e930437ac",
   "metadata": {
    "tags": []
   },
   "outputs": [],
   "source": [
    "start_second = (60*1 + 0) # 60*minutes + seconds\n",
    "end_second = (3600*0 + 60*47 + 0) #3600*hour + 60*minutes + seconds"
   ]
  },
  {
   "cell_type": "code",
   "execution_count": null,
   "id": "45ae13dc-8362-4759-bf47-1e9a71edcbf1",
   "metadata": {
    "tags": []
   },
   "outputs": [],
   "source": [
    "print(start_second)\n",
    "print(end_second)"
   ]
  },
  {
   "cell_type": "code",
   "execution_count": null,
   "id": "3ae4982b",
   "metadata": {},
   "outputs": [],
   "source": [
    "def trim_video(input_file: str, output_file: str, start_second : int, end_second: int):\n",
    "    \n",
    "    if end_second is None:\n",
    "        video = VideoFileClip(input_file)\n",
    "        end_second = video.duration \n",
    "    \n",
    "    ffmpeg_extract_subclip(input_file, start_second, end_second, output_file)"
   ]
  },
  {
   "cell_type": "code",
   "execution_count": null,
   "id": "3d1675df-39f7-4701-9799-5cb3dd620a2b",
   "metadata": {},
   "outputs": [],
   "source": [
    "trim_video(input_file, output_file, start_second, end_second)"
   ]
  },
  {
   "cell_type": "code",
   "execution_count": null,
   "id": "706653b6",
   "metadata": {},
   "outputs": [],
   "source": []
  }
 ],
 "metadata": {
  "kernelspec": {
   "display_name": "Python 3",
   "language": "python",
   "name": "python3"
  },
  "language_info": {
   "codemirror_mode": {
    "name": "ipython",
    "version": 3
   },
   "file_extension": ".py",
   "mimetype": "text/x-python",
   "name": "python",
   "nbconvert_exporter": "python",
   "pygments_lexer": "ipython3",
   "version": "3.9.6"
  }
 },
 "nbformat": 4,
 "nbformat_minor": 5
}
