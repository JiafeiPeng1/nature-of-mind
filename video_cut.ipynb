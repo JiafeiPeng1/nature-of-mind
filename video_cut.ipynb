{
 "cells": [
  {
   "cell_type": "code",
   "execution_count": null,
   "id": "f6589f6f",
   "metadata": {},
   "outputs": [],
   "source": [
    "pip install moviepy"
   ]
  },
  {
   "cell_type": "code",
   "execution_count": null,
   "id": "be5144da",
   "metadata": {},
   "outputs": [],
   "source": [
    "pip install ffmpeg"
   ]
  },
  {
   "cell_type": "code",
   "execution_count": null,
   "id": "fd24cf50",
   "metadata": {},
   "outputs": [],
   "source": [
    "import os\n",
    "#os.environ[\"IMAGEIO_FFMPEG_EXE\"] = \"/opt/homebrew/bin/ffmpeg\"\n",
    "os.environ[\"IMAGEIO_FFMPEG_EXE\"] = \"/usr/local/opt/ffmpeg/bin/ffmpeg\""
   ]
  },
  {
   "cell_type": "code",
   "execution_count": null,
   "id": "5dd268cf-6b8b-4f8d-a5eb-8e3d501e292c",
   "metadata": {
    "tags": []
   },
   "outputs": [],
   "source": [
    "from moviepy.video.io.ffmpeg_tools import ffmpeg_extract_subclip\n",
    "from moviepy.video.io.VideoFileClip import VideoFileClip\n",
    "# from moviepy import VideoFileClip\n",
    "\n",
    "import subprocess"
   ]
  },
  {
   "cell_type": "code",
   "execution_count": null,
   "id": "bf91e78c-5cf1-4c35-835b-bbb5fffa931a",
   "metadata": {
    "tags": []
   },
   "outputs": [],
   "source": [
    "input_file = \"/Users/jiafeipeng/Downloads/GMT20241019-140607_Recording_640x360.mp4\"\n",
    "output_file = \"/Users/jiafeipeng/Downloads/gg_20241019_2.mp4\""
   ]
  },
  {
   "cell_type": "code",
   "execution_count": null,
   "id": "a6e7b13a-bb77-4f07-a3ba-7d1e930437ac",
   "metadata": {
    "tags": []
   },
   "outputs": [],
   "source": [
    "start_second = (60*0 + 14) # 60*minutes + seconds\n",
    "end_second = (3600*1 + 60*7 + 32) #3600*hour + 60*minutes + seconds"
   ]
  },
  {
   "cell_type": "code",
   "execution_count": null,
   "id": "45ae13dc-8362-4759-bf47-1e9a71edcbf1",
   "metadata": {
    "tags": []
   },
   "outputs": [],
   "source": [
    "print(start_second)\n",
    "print(end_second)"
   ]
  },
  {
   "cell_type": "code",
   "execution_count": null,
   "id": "3ae4982b",
   "metadata": {},
   "outputs": [],
   "source": [
    "def trim_video(input_file: str, output_file: str, start_second : float, end_second: float):\n",
    "    \n",
    "    if end_second is None:\n",
    "        video = VideoFileClip(input_file)\n",
    "        end_second = video.duration \n",
    "    \n",
    "    ffmpeg_extract_subclip(input_file, start_second, end_second, output_file)\n",
    "\n",
    "\n",
    "def ffmpeg_extract_subclip_with_reencode(inputfile: str, start_time: float, end_time: float, outputfile: str = None):\n",
    "    \"\"\"\n",
    "    Extracts a subclip from the input video, and re-encodes it to ensure proper timecodes, before saves it to an output file.\n",
    "\n",
    "    Parameters:\n",
    "    - inputfile: str - Path to the input video file.\n",
    "    - start_time: float - Start time of the subclip in seconds.\n",
    "    - end_time: float - End time of the subclip in seconds.\n",
    "    - outputfile: str - Path to save the output video (optional).\n",
    "    \"\"\"\n",
    "    # If no outputfile is specified, generate a default one\n",
    "    if outputfile is None:\n",
    "        outputfile = f\"{inputfile.split('.')[0]}_SUB{start_time}_{end_time}.mp4\"\n",
    "    \n",
    "    # Extract the subclip using moviepy\n",
    "    notyet_reencoded_outputfile = outputfile.replace(\".mp4\", \"notyet_reencoded.mp4\")\n",
    "    ffmpeg_extract_subclip(inputfile, start_time, end_time, notyet_reencoded_outputfile)\n",
    "        \n",
    "    # Re-encode the output file using ffmpeg to ensure timecode and metadata are correct\n",
    "    subprocess.run([\n",
    "        \"ffmpeg\", \"-i\", notyet_reencoded_outputfile, \"-c:v\", \"libx264\", \"-c:a\", \"aac\", \n",
    "        \"-strict\", \"experimental\", \"-y\", outputfile\n",
    "    ])\n",
    "    \n",
    "    # Optionally, remove the original extracted file if re-encoding was successful\n",
    "    # (You can keep or remove the file based on your use case)\n",
    "    subprocess.run([\"rm\", notyet_reencoded_outputfile])  # Use os.remove() in Python if needed\n",
    "    \n",
    "    print(f\"Re-encoded subclip saved as: {outputfile}\")\n",
    "    return outputfile"
   ]
  },
  {
   "cell_type": "code",
   "execution_count": null,
   "id": "3d1675df-39f7-4701-9799-5cb3dd620a2b",
   "metadata": {},
   "outputs": [],
   "source": [
    "# Extract the subclip from start_second to end_second\n",
    "# trim_video(input_file, output_file, start_second, end_second)\n",
    "ffmpeg_extract_subclip_with_reencode(input_file, start_second, end_second, output_file)"
   ]
  },
  {
   "cell_type": "code",
   "execution_count": null,
   "id": "865ff0f1",
   "metadata": {},
   "outputs": [],
   "source": []
  },
  {
   "cell_type": "code",
   "execution_count": null,
   "id": "706653b6",
   "metadata": {},
   "outputs": [],
   "source": []
  }
 ],
 "metadata": {
  "kernelspec": {
   "display_name": ".venv",
   "language": "python",
   "name": "python3"
  },
  "language_info": {
   "codemirror_mode": {
    "name": "ipython",
    "version": 3
   },
   "file_extension": ".py",
   "mimetype": "text/x-python",
   "name": "python",
   "nbconvert_exporter": "python",
   "pygments_lexer": "ipython3",
   "version": "3.13.0"
  }
 },
 "nbformat": 4,
 "nbformat_minor": 5
}
